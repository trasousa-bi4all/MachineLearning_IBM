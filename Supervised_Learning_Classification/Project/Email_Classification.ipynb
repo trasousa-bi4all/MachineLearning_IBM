{
 "cells": [
  {
   "cell_type": "markdown",
   "metadata": {},
   "source": [
    "# Email Spam Classication 📧"
   ]
  },
  {
   "cell_type": "markdown",
   "metadata": {},
   "source": [
    "### Context"
   ]
  },
  {
   "cell_type": "markdown",
   "metadata": {},
   "source": [
    "The focus of this project is to gain hands-on experience with classification modules in supervised learning. With this in mind the I intend to classify an email as spam or ham (not spam), to do so I found a raw file [here](http://www2.aueb.gr/users/ion/data/enron-spam/). It contains two folders of spam and ham. Each folder contains emails. I iterated to each text file of those folders and created a data frame and written to a CSV file, that is available in this directory. In the data set the spam as label \"1\" and the ham as label \"0\".\n",
    "\n",
    "Legitimate\n",
    "----------\n",
    "- Owner: farmer-d\n",
    "- Total number: 3672 emails\n",
    "- Date of first email: 1999-12-10\n",
    "- Date of last email: 2002-01-11\n",
    "- Similars deletion: No\n",
    "- Encoding: No\n",
    "\n",
    "\n",
    "Spam\n",
    "----\n",
    "- Owner: GP\n",
    "- Total number: 1500 emails\n",
    "- Date of first email: 2003-12-18\n",
    "- Date of last email: 2005-09-06\n",
    "- Similars deletion: No\n",
    "- Encoding: No\n",
    "\n",
    "Spam:Legitimate rate = 1:3\n",
    "Total number of emails (legitimate + spam): 5975\n"
   ]
  },
  {
   "cell_type": "markdown",
   "metadata": {},
   "source": [
    "### Table of Content \n",
    "1. [Firt Look](#First_look)\n",
    "    1. [Download_Files](#Downlod)\n",
    "\n",
    "    2. [Imports](#Imports)\n",
    "     \n",
    "    3. [Data Cleaning](#Data_Cleaning)\n",
    "    \n",
    "    4. [Data Analise](#Data_Analise)\n",
    "\n",
    "2. [Classification Models](#Classification)\n",
    "\n",
    "    1. [Naive Bayes](#Naive_Bayes)\n",
    "    2. [Support Vector Machines](#Support_Vector_Machines)\n",
    "    3. [Random Forests (Bagging)](#Random_Forests_(Bagging))\n",
    "    4. [K-Nearest Neighbor](#K-Nearest_Neighbor )\n",
    "    5. [Gradboosting](#Gradboosting)\n",
    "    6. [GridSearchCV](#GridSearchCV)\n",
    "    6. [Logistic Regression](#Logistic_Regression)\n",
    "    7. [Desission tree](#Desission_tree)"
   ]
  },
  {
   "cell_type": "markdown",
   "metadata": {},
   "source": [
    "## First_look"
   ]
  },
  {
   "cell_type": "markdown",
   "metadata": {},
   "source": [
    "### Imports"
   ]
  },
  {
   "cell_type": "code",
   "execution_count": 62,
   "metadata": {},
   "outputs": [],
   "source": [
    "#files\n",
    "import urllib.request\n",
    "import os\n",
    "import tarfile\n",
    "import pickle\n",
    "import shutil\n",
    "import re\n",
    "from string import punctuation\n",
    "import warnings\n",
    "\n",
    "\n",
    "#data manipulation and plots\n",
    "import numpy as np \n",
    "import pandas as pd \n",
    "import seaborn as sns\n",
    "import matplotlib.pyplot as plt\n",
    "from collections import Counter\n",
    "\n",
    "#words \n",
    "import nltk\n",
    "from nltk.corpus import stopwords \n",
    "from nltk.tokenize import word_tokenize \n",
    "\n",
    "\n",
    "\n",
    "# sklearn models and classifiers\n",
    "from sklearn.feature_extraction.text import TfidfVectorizer\n",
    "from sklearn.model_selection import train_test_split\n",
    "from sklearn.naive_bayes import MultinomialNB\n",
    "from sklearn.svm import SVC\n",
    "from sklearn import svm\n",
    "from sklearn.ensemble import RandomForestClassifier\n",
    "from sklearn.neighbors import KNeighborsClassifier\n",
    "from sklearn.model_selection import GridSearchCV\n",
    "from sklearn.tree import DecisionTreeClassifier\n",
    "\n",
    "from sklearn.ensemble import GradientBoostingClassifier\n",
    "from sklearn.linear_model import LogisticRegression\n",
    "from sklearn import feature_extraction,model_selection\n",
    "\n",
    "#metrics\n",
    "from sklearn.metrics import confusion_matrix, accuracy_score, classification_report, f1_score, r2_score,mean_squared_error\n",
    "\n"
   ]
  },
  {
   "cell_type": "markdown",
   "metadata": {},
   "source": [
    "### Download"
   ]
  },
  {
   "cell_type": "code",
   "execution_count": 2,
   "metadata": {},
   "outputs": [],
   "source": [
    "# Get the user's Current folder path\n",
    "CURR_DIR = os.path.dirname(os.path.realpath(\" \"))"
   ]
  },
  {
   "cell_type": "code",
   "execution_count": 3,
   "metadata": {},
   "outputs": [
    {
     "name": "stdout",
     "output_type": "stream",
     "text": [
      "Downloading Enron emails in the Downloads folder...\n",
      "Download, unzip, and save to pickle done!\n",
      "Pickle moved to current working directory /Users/sousa/Desktop/IBM_ML_course/MachineLearning_IBM/Supervised_Learning_Classification/Project/emails.pickle.\n",
      "Enron zip deleted /Users/sousa/Downloads/Enron emails.\n"
     ]
    }
   ],
   "source": [
    "print(\"Downloading Enron emails in the Downloads folder...\")\n",
    "\n",
    "# Get the user's Downloads folder path\n",
    "downloads = os.path.join(os.environ['HOME'] + \"/Downloads\")\n",
    "\n",
    "url = \"http://www.aueb.gr/users/ion/data/enron-spam/preprocessed/\"\n",
    "\n",
    "enron_dir = os.path.join(downloads, 'Enron emails')\n",
    "\n",
    "enron_files = ['enron1.tar.gz', 'enron2.tar.gz', 'enron3.tar.gz',\n",
    "               'enron4.tar.gz', 'enron5.tar.gz', 'enron6.tar.gz']\n",
    "\n",
    "def download():\n",
    "    \"\"\" Download Enron emails if missing. \"\"\"\n",
    "    \n",
    "    # Create the directories.\n",
    "    if not os.path.exists(enron_dir):\n",
    "        os.makedirs(enron_dir)\n",
    "    # Download the files that not exist.\n",
    "    for file in enron_files:\n",
    "        path = os.path.join(enron_dir, file)\n",
    "        if not os.path.exists(path):\n",
    "            urllib.request.urlretrieve(url + file, path)\n",
    "\n",
    "def extract_emails(fname):\n",
    "    \"\"\" Extract the zipped emails and load them into a pandas df.\n",
    "    Args:\n",
    "        fname (str): the files with tar.gz extension\n",
    "    Returns:\n",
    "        pandas df: a pandas dataframe of emails\n",
    "    \"\"\"\n",
    "    \n",
    "    rows = []\n",
    "    tfile = tarfile.open(fname, 'r:gz')\n",
    "    for member in tfile.getmembers():\n",
    "        if 'ham' in member.name:\n",
    "            f = tfile.extractfile(member)\n",
    "            if f is not None:\n",
    "                row = f.read()\n",
    "                rows.append({'email': row, 'class': 'ham'})\n",
    "        if 'spam' in member.name:\n",
    "            f = tfile.extractfile(member)\n",
    "            if f is not None:\n",
    "                row = f.read()\n",
    "                rows.append({'email': row, 'class': 'spam'})\n",
    "    tfile.close()\n",
    "    return pd.DataFrame(rows)\n",
    "\n",
    "def populate_df_and_pickle():\n",
    "    \"\"\" Populate the df with all the emails and save it to a pickle object. \"\"\"\n",
    "    \n",
    "    if not os.path.exists(downloads + \"/emails.pickle\"):\n",
    "        emails_df = pd.DataFrame({'email': [], 'class': []})\n",
    "        for file in enron_files:\n",
    "            unzipped_file = extract_emails(os.path.join(enron_dir, file))\n",
    "            emails_df = emails_df.append(unzipped_file)\n",
    "        emails_df.to_pickle(downloads + \"/emails.pickle\")\n",
    "\n",
    "if __name__ == '__main__':\n",
    "    download()\n",
    "    populate_df_and_pickle()\n",
    "    print(\"Download, unzip, and save to pickle done!\")\n",
    "    #move files from downloads to current working directory\n",
    "    data_pickle = downloads + '/emails.pickle'\n",
    "    dirt = shutil.move(data_pickle, CURR_DIR+ '/emails.pickle')\n",
    "    print(\"Pickle moved to current working directory {}.\".format(dirt))\n",
    "    rem  = shutil.rmtree(enron_dir) \n",
    "    print(\"Enron zip deleted {}.\".format(enron_dir))"
   ]
  },
  {
   "cell_type": "code",
   "execution_count": 4,
   "metadata": {},
   "outputs": [
    {
     "name": "stdout",
     "output_type": "stream",
     "text": [
      "RangeIndex(start=0, stop=33716, step=1)\n"
     ]
    },
    {
     "data": {
      "text/plain": [
       "(33716, 2)"
      ]
     },
     "execution_count": 4,
     "metadata": {},
     "output_type": "execute_result"
    }
   ],
   "source": [
    "with open(CURR_DIR + '/emails.pickle', 'rb') as f:\n",
    "    emails_df = pickle.load(f) \n",
    "\n",
    "# Translate bytes objects into strings.\n",
    "emails_df['email'] = emails_df['email'].apply(lambda x: x.decode('latin-1'))\n",
    "\n",
    "# Reset pandas df index.\n",
    "emails_df = emails_df.reset_index(drop=True)\n",
    "\n",
    "# Map 'spam' to 1 and 'ham' to 0.\n",
    "emails_df['class'] = emails_df['class'].map({'spam':1, 'ham':0})\n",
    "\n",
    "print(emails_df.index)\n",
    "emails_df.shape"
   ]
  },
  {
   "cell_type": "code",
   "execution_count": 5,
   "metadata": {},
   "outputs": [
    {
     "data": {
      "text/plain": [
       "array([\"Subject: [ ilug - social ] prirodu requiremus social sample\\r\\nsocial\\r\\non january lst 2002 , the european countries began\\r\\nusing the new euro . never before have so\\r\\nmany countries with such powerful economies united\\r\\nto use a single currency . get your piece of history\\r\\nnow ! we would like to send you a free euro\\r\\nand a free report on world currency . just visit\\r\\nour site to request your euro and euro report :\\r\\nin addition to our currency report , you can receive\\r\\nour free investment package :\\r\\n* learn how $ 10 , 000 in options will leverage $ 1 , 000 , 000 in\\r\\neuro currency . this means even a small movement in the market\\r\\nhas huge profit potential . csice\\r\\nif you are over age 18 and have some risk capital , it ' s\\r\\nimportant that you find out how the euro will\\r\\nchange the economic world and how you can profit !\\r\\nplease carefully evaluate your financial position before\\r\\ntrading . only risk capital should be used .\\r\\n8 c 43 fd 25 cb 6 f 949944 eel 2 c 379 e 50028\\r\\nutbxcuhepuffbnkwq\\r\\nfull opt - out instructions on the bottom of the site\\r\\n- -\\r\\nirish linux users ' group social events : social @ linux . ie\\r\\nhttp : / / www . linux . ie / mailman / listinfo / social for ( un ) subscription information .\\r\\nlist maintainer : listmaster @ linux . ie\",\n",
       "       1], dtype=object)"
      ]
     },
     "execution_count": 5,
     "metadata": {},
     "output_type": "execute_result"
    }
   ],
   "source": [
    "emails_df.iloc[25000].values"
   ]
  },
  {
   "cell_type": "markdown",
   "metadata": {},
   "source": [
    "### Data_Cleaning\n",
    "\n",
    "Remove the punctuation, any urls and numbers. Finally, convert every word to lower case."
   ]
  },
  {
   "cell_type": "code",
   "execution_count": 63,
   "metadata": {},
   "outputs": [
    {
     "data": {
      "text/plain": [
       "array(['subject ilug social prirodu requiremus social sampl social on januari lst the european countri began use the new euro never befor have so mani countri with such power economi unit to use a singl currenc get your piec of histori now we would like to send you a free euro and a free report on world currenc just visit our site to request your euro and euro report in addit to our currenc report you can receiv our free invest packag learn how in option will leverag in euro currenc this mean even a small movement in the market has huge profit potenti csice if you are over age and have some risk capit it s import that you find out how the euro will chang the econom world and how you can profit pleas care evalu your financi posit befor trade onli risk capit should be use c fd cb f eel c e utbxcuhepuffbnkwq full opt out instruct on the bottom of the site irish linux user group social event social linux ie http www linux ie mailman listinfo social for un subscript inform list maintain listmast linux ie ',\n",
       "       1], dtype=object)"
      ]
     },
     "execution_count": 63,
     "metadata": {},
     "output_type": "execute_result"
    }
   ],
   "source": [
    "def clean_email(email):\n",
    "    \"\"\" Remove all punctuation, urls, numbers, and newlines.\n",
    "    Convert to lower case.\n",
    "    Args:\n",
    "        email (unicode): the email\n",
    "    Returns:\n",
    "        email (unicode): only the text of the email\n",
    "    \"\"\"\n",
    "    \n",
    "    email = re.sub(r'http\\S+', ' ', email)\n",
    "    email = re.sub(\"\\d+\", \" \", email)\n",
    "    email = email.replace('\\n', ' ')\n",
    "    email = email.translate(str.maketrans(\"\", \"\", punctuation))\n",
    "    email = email.lower()\n",
    "    return email\n",
    "\n",
    "emails_df['email'] = emails_df['email'].apply(clean_email)\n",
    "\n",
    "emails_df.iloc[25000].values"
   ]
  },
  {
   "cell_type": "markdown",
   "metadata": {},
   "source": [
    "### Prepare the Data\n",
    "--------------------\n",
    "\n",
    "Split the text string into individual words and stem each word. Remove english stop words.\n",
    "\n",
    "##### Split and Stem\n",
    "-----------------\n",
    "\n",
    "\n",
    "Split the text by white spaces and link the different forms of the same word to each other, using stemming. For example “responsiveness” and “response” have the same stem/root - “respons”.\n",
    "\n",
    "##### Remove Stop Words\n",
    "------------------------\n",
    "\n",
    "Some words such as “the” or “is” appear in all emails and don’t have much content to them. These words are not going to help the algorithm distinguish spam from ham. Such words are called stopwords and they can be disregarded during classification."
   ]
  },
  {
   "cell_type": "code",
   "execution_count": 7,
   "metadata": {},
   "outputs": [
    {
     "data": {
      "text/plain": [
       "array(['subject ilug social prirodu requiremus social sampl social on januari lst the european countri began use the new euro never befor have so mani countri with such power economi unit to use a singl currenc get your piec of histori now we would like to send you a free euro and a free report on world currenc just visit our site to request your euro and euro report in addit to our currenc report you can receiv our free invest packag learn how in option will leverag in euro currenc this mean even a small movement in the market has huge profit potenti csice if you are over age and have some risk capit it s import that you find out how the euro will chang the econom world and how you can profit pleas care evalu your financi posit befor trade onli risk capit should be use c fd cb f eel c e utbxcuhepuffbnkwq full opt out instruct on the bottom of the site irish linux user group social event social linux ie http www linux ie mailman listinfo social for un subscript inform list maintain listmast linux ie ',\n",
       "       1], dtype=object)"
      ]
     },
     "execution_count": 7,
     "metadata": {},
     "output_type": "execute_result"
    }
   ],
   "source": [
    "from nltk.stem.snowball import SnowballStemmer\n",
    "# nltk.download('wordnet') # uncomment to download 'wordnet'\n",
    "from nltk.corpus import wordnet as wn\n",
    "\n",
    "def preproces_text(email):\n",
    "    \"\"\" Split the text string into individual words, stem each word,\n",
    "    and append the stemmed word to words. Make sure there's a single\n",
    "    space between each stemmed word.\n",
    "    Args:\n",
    "        email (unicode): the email\n",
    "    Returns:\n",
    "        words (unicode): the text of the email\n",
    "    \"\"\"\n",
    "    \n",
    "    words = \"\"\n",
    "    # Create the stemmer.\n",
    "    stemmer = SnowballStemmer(\"english\")\n",
    "    # Split text into words.\n",
    "    email = email.split()\n",
    "    for word in email:\n",
    "        # Optional: remove unknown words.\n",
    "        # if wn.synsets(word):\n",
    "        words = words + stemmer.stem(word) + \" \"\n",
    "    \n",
    "    return words\n",
    "\n",
    "emails_df['email'] = emails_df['email'].apply(preproces_text)\n",
    "\n",
    "emails_df.iloc[25000].values"
   ]
  },
  {
   "cell_type": "markdown",
   "metadata": {},
   "source": [
    "#### Data_Analise"
   ]
  },
  {
   "cell_type": "code",
   "execution_count": 8,
   "metadata": {
    "scrolled": true
   },
   "outputs": [],
   "source": [
    "data = emails_df"
   ]
  },
  {
   "cell_type": "code",
   "execution_count": 9,
   "metadata": {},
   "outputs": [
    {
     "data": {
      "text/html": [
       "<div>\n",
       "<style scoped>\n",
       "    .dataframe tbody tr th:only-of-type {\n",
       "        vertical-align: middle;\n",
       "    }\n",
       "\n",
       "    .dataframe tbody tr th {\n",
       "        vertical-align: top;\n",
       "    }\n",
       "\n",
       "    .dataframe thead th {\n",
       "        text-align: right;\n",
       "    }\n",
       "</style>\n",
       "<table border=\"1\" class=\"dataframe\">\n",
       "  <thead>\n",
       "    <tr style=\"text-align: right;\">\n",
       "      <th></th>\n",
       "      <th>email</th>\n",
       "      <th>class</th>\n",
       "    </tr>\n",
       "  </thead>\n",
       "  <tbody>\n",
       "    <tr>\n",
       "      <th>0</th>\n",
       "      <td>subject christma tree farm pictur</td>\n",
       "      <td>0</td>\n",
       "    </tr>\n",
       "    <tr>\n",
       "      <th>1</th>\n",
       "      <td>subject vastar resourc inc gari product from t...</td>\n",
       "      <td>0</td>\n",
       "    </tr>\n",
       "    <tr>\n",
       "      <th>2</th>\n",
       "      <td>subject calpin daili gas nomin calpin daili ga...</td>\n",
       "      <td>0</td>\n",
       "    </tr>\n",
       "    <tr>\n",
       "      <th>3</th>\n",
       "      <td>subject re issu fyi see note below alreadi don...</td>\n",
       "      <td>0</td>\n",
       "    </tr>\n",
       "    <tr>\n",
       "      <th>4</th>\n",
       "      <td>subject meter nov alloc fyi forward by lauri a...</td>\n",
       "      <td>0</td>\n",
       "    </tr>\n",
       "  </tbody>\n",
       "</table>\n",
       "</div>"
      ],
      "text/plain": [
       "                                               email  class\n",
       "0                 subject christma tree farm pictur       0\n",
       "1  subject vastar resourc inc gari product from t...      0\n",
       "2  subject calpin daili gas nomin calpin daili ga...      0\n",
       "3  subject re issu fyi see note below alreadi don...      0\n",
       "4  subject meter nov alloc fyi forward by lauri a...      0"
      ]
     },
     "execution_count": 9,
     "metadata": {},
     "output_type": "execute_result"
    }
   ],
   "source": [
    "data.head(5)"
   ]
  },
  {
   "cell_type": "code",
   "execution_count": 10,
   "metadata": {},
   "outputs": [
    {
     "name": "stdout",
     "output_type": "stream",
     "text": [
      "In this data frame there are 33716 emails from witch 17171 are spam and 16545 are ham \n"
     ]
    }
   ],
   "source": [
    "print(\"In this data frame there are {} emails from witch {} are spam and {} are ham \"\n",
    "      .format(len(data), len(data[data['class']==1]),len(data[data['class']==0]) ) )"
   ]
  },
  {
   "cell_type": "code",
   "execution_count": 11,
   "metadata": {
    "scrolled": false
   },
   "outputs": [
    {
     "name": "stderr",
     "output_type": "stream",
     "text": [
      "/Library/Frameworks/Python.framework/Versions/3.8/lib/python3.8/site-packages/pandas/plotting/_matplotlib/tools.py:298: MatplotlibDeprecationWarning: \n",
      "The rowNum attribute was deprecated in Matplotlib 3.2 and will be removed two minor releases later. Use ax.get_subplotspec().rowspan.start instead.\n",
      "  layout[ax.rowNum, ax.colNum] = ax.get_visible()\n",
      "/Library/Frameworks/Python.framework/Versions/3.8/lib/python3.8/site-packages/pandas/plotting/_matplotlib/tools.py:298: MatplotlibDeprecationWarning: \n",
      "The colNum attribute was deprecated in Matplotlib 3.2 and will be removed two minor releases later. Use ax.get_subplotspec().colspan.start instead.\n",
      "  layout[ax.rowNum, ax.colNum] = ax.get_visible()\n",
      "/Library/Frameworks/Python.framework/Versions/3.8/lib/python3.8/site-packages/pandas/plotting/_matplotlib/tools.py:304: MatplotlibDeprecationWarning: \n",
      "The rowNum attribute was deprecated in Matplotlib 3.2 and will be removed two minor releases later. Use ax.get_subplotspec().rowspan.start instead.\n",
      "  if not layout[ax.rowNum + 1, ax.colNum]:\n",
      "/Library/Frameworks/Python.framework/Versions/3.8/lib/python3.8/site-packages/pandas/plotting/_matplotlib/tools.py:304: MatplotlibDeprecationWarning: \n",
      "The colNum attribute was deprecated in Matplotlib 3.2 and will be removed two minor releases later. Use ax.get_subplotspec().colspan.start instead.\n",
      "  if not layout[ax.rowNum + 1, ax.colNum]:\n"
     ]
    },
    {
     "data": {
      "text/plain": [
       "Text(0.5, 1.0, 'Pie chart')"
      ]
     },
     "execution_count": 11,
     "metadata": {},
     "output_type": "execute_result"
    },
    {
     "data": {
      "image/png": "[encoded data removed]",
      "text/plain": [
       "<Figure size 1440x720 with 2 Axes>"
      ]
     },
     "metadata": {
      "needs_background": "light"
     },
     "output_type": "display_data"
    }
   ],
   "source": [
    "fig, axs = plt.subplots(1, 2, figsize=(20, 10))\n",
    "fig.suptitle('Word Frequency', fontsize = 30, fontweight='bold')\n",
    "\n",
    "count_Class=pd.value_counts(data[\"class\"], sort= True)\n",
    "ax = count_Class.plot(kind= 'bar', color= [\"blue\", \"orange\"], ax=axs[0])\n",
    "ax.set_title('Bar chart')\n",
    "\n",
    "ax = count_Class.plot(kind = 'pie',  autopct='%1.0f%%', ax=axs[1])\n",
    "ax.set_title('Pie chart')\n"
   ]
  },
  {
   "cell_type": "code",
   "execution_count": 93,
   "metadata": {
    "scrolled": false
   },
   "outputs": [
    {
     "name": "stderr",
     "output_type": "stream",
     "text": [
      "[nltk_data] Downloading package stopwords to /Users/sousa/nltk_data...\n",
      "[nltk_data]   Package stopwords is already up-to-date!\n",
      "[nltk_data] Downloading package punkt to /Users/sousa/nltk_data...\n",
      "[nltk_data]   Package punkt is already up-to-date!\n"
     ]
    },
    {
     "data": {
      "image/png": "[encoded data removed]",
      "text/plain": [
       "<Figure size 1440x720 with 2 Axes>"
      ]
     },
     "metadata": {},
     "output_type": "display_data"
    }
   ],
   "source": [
    "nltk.download('stopwords')\n",
    "nltk.download('punkt')\n",
    "stop_words = set(stopwords.words('english'))\n",
    "data1 = \"\".join(data[data['class']==0]['email']).split() \n",
    "data1 = [w for w in data1 if not w in stop_words]\n",
    "data1 = Counter(data1).most_common(20)\n",
    "df1 = pd.DataFrame(data1)\n",
    "\n",
    "data2 = \"\".join(data[data['class']==1]['email']).split() \n",
    "data2 = [w for w in data2 if not w in stop_words]\n",
    "data2 = Counter(data2).most_common(20)\n",
    "df2 = pd.DataFrame(data2)\n",
    "\n",
    "sns.set_theme(style=\"whitegrid\")\n",
    "fig, axs = plt.subplots(1, 2, figsize=(20, 10))\n",
    "fig.suptitle('Word Frequency', fontsize = 30, fontweight='bold')\n",
    "\n",
    "\n",
    "ax1 = sns.barplot(x=df1[0],y=df1[1], data=df1, ax=axs[0])\n",
    "ax1.set_title(\"words in non-spam\")\n",
    "\n",
    "\n",
    "ax2 = sns.barplot(x=df2[0],y=df2[1],data=df2,ax=axs[1])\n",
    "ax2.set_title(\"words in spam\")\n",
    "\n",
    "plt.tight_layout()"
   ]
  },
  {
   "cell_type": "markdown",
   "metadata": {},
   "source": [
    "#### Remove all english stop words"
   ]
  },
  {
   "cell_type": "code",
   "execution_count": 130,
   "metadata": {},
   "outputs": [],
   "source": [
    "data23 = data\n",
    "for i in range(len(data)):\n",
    "    for j in data23['email'][i].split(): \n",
    "        if j in stop_words:\n",
    "            data23['email'][i].replace(j,\"\")"
   ]
  },
  {
   "cell_type": "code",
   "execution_count": 141,
   "metadata": {},
   "outputs": [
    {
     "data": {
      "text/plain": [
       "array(['subject ilug social prirodu requiremus social sampl social on januari lst the european countri began use the new euro never befor have so mani countri with such power economi unit to use a singl currenc get your piec of histori now we would like to send you a free euro and a free report on world currenc just visit our site to request your euro and euro report in addit to our currenc report you can receiv our free invest packag learn how in option will leverag in euro currenc this mean even a small movement in the market has huge profit potenti csice if you are over age and have some risk capit it s import that you find out how the euro will chang the econom world and how you can profit pleas care evalu your financi posit befor trade onli risk capit should be use c fd cb f eel c e utbxcuhepuffbnkwq full opt out instruct on the bottom of the site irish linux user group social event social linux ie http www linux ie mailman listinfo social for un subscript inform list maintain listmast linux ie ',\n",
       "       1], dtype=object)"
      ]
     },
     "execution_count": 141,
     "metadata": {},
     "output_type": "execute_result"
    }
   ],
   "source": [
    "data23.iloc[25000].values"
   ]
  },
  {
   "cell_type": "code",
   "execution_count": 132,
   "metadata": {
    "scrolled": true
   },
   "outputs": [],
   "source": [
    "\n",
    "data = data23"
   ]
  },
  {
   "cell_type": "code",
   "execution_count": 133,
   "metadata": {},
   "outputs": [],
   "source": [
    "X = data['email'].values\n",
    "Y = data['class'].values\n",
    "vectorizer = TfidfVectorizer(sublinear_tf=True, max_df=0.5, stop_words='english')\n",
    "X = vectorizer.fit_transform(X)\n"
   ]
  },
  {
   "cell_type": "code",
   "execution_count": 134,
   "metadata": {
    "scrolled": true
   },
   "outputs": [
    {
     "name": "stdout",
     "output_type": "stream",
     "text": [
      "[(22589, 119405), (11127, 119405)]\n"
     ]
    }
   ],
   "source": [
    "train_x, test_x, train_y, test_y = model_selection.train_test_split(X, Y, test_size=0.33, random_state=42,shuffle=True,)\n",
    "print([np.shape(train_x), np.shape(test_x)])"
   ]
  },
  {
   "cell_type": "code",
   "execution_count": 135,
   "metadata": {},
   "outputs": [
    {
     "data": {
      "image/png": "[encoded data removed]",
      "text/plain": [
       "<Figure size 1440x720 with 2 Axes>"
      ]
     },
     "metadata": {},
     "output_type": "display_data"
    }
   ],
   "source": [
    "sns.set_theme(style=\"whitegrid\")\n",
    "fig, axs = plt.subplots(1, 2, figsize=(20, 10))\n",
    "fig.suptitle('Word Frequency', fontsize = 30, fontweight='bold')\n",
    "\n",
    "count_Class = pd.value_counts(test_y, sort= True)\n",
    "ax = count_Class.plot(kind = 'pie',  autopct='%1.0f%%', ax=axs[0])\n",
    "ax.set_title(\"Test Set\")\n",
    "\n",
    "count_Class = pd.value_counts(train_y, sort= True)\n",
    "ax = count_Class.plot(kind = 'pie',  autopct='%1.0f%%', ax=axs[1])\n",
    "ax.set_title(\"Training Set\")\n",
    "\n",
    "plt.show()"
   ]
  },
  {
   "cell_type": "markdown",
   "metadata": {},
   "source": [
    "------\n",
    "As we can se the proporsionality of the initial data is mantained 51 / 49"
   ]
  },
  {
   "cell_type": "markdown",
   "metadata": {},
   "source": [
    "## Classification "
   ]
  },
  {
   "cell_type": "markdown",
   "metadata": {},
   "source": [
    "## Naive_Bayes"
   ]
  },
  {
   "cell_type": "code",
   "execution_count": 136,
   "metadata": {},
   "outputs": [
    {
     "name": "stdout",
     "output_type": "stream",
     "text": [
      "              precision    recall  f1-score   support\n",
      "\n",
      "           0       0.98      0.99      0.99      5443\n",
      "           1       0.99      0.98      0.99      5684\n",
      "\n",
      "    accuracy                           0.99     11127\n",
      "   macro avg       0.99      0.99      0.99     11127\n",
      "weighted avg       0.99      0.99      0.99     11127\n",
      "\n",
      "Accuracy Score of Naive Bayes :  0.99\n",
      "F1 Score of Naive Bayes  :  0.99\n"
     ]
    }
   ],
   "source": [
    "# Create classifier.\n",
    "clf = MultinomialNB()\n",
    "\n",
    "# Fit the classifier on the training features and labels.\n",
    "clf.fit(train_x, train_y)\n",
    "\n",
    "# Make prediction - Store predictions in a list named pred.\n",
    "y_pred1 = clf.predict(test_x)\n",
    "\n",
    "\n",
    "print(classification_report(test_y, y_pred1))\n",
    "print('Accuracy Score of Naive Bayes : ', round(accuracy_score(test_y, y_pred1), 2))\n",
    "print('F1 Score of Naive Bayes  : ', round(f1_score(test_y, y_pred1), 2))"
   ]
  },
  {
   "cell_type": "markdown",
   "metadata": {},
   "source": [
    "##### Identify the Most Powerful Features\n",
    "\n",
    "-------------------------------------------\n",
    "Print the 10 most important features."
   ]
  },
  {
   "cell_type": "code",
   "execution_count": 17,
   "metadata": {},
   "outputs": [],
   "source": [
    "#this give the most important features\n",
    "def get_most_important_features(vectorizer, classifier, n=None):\n",
    "    feature_names = vectorizer.get_feature_names()\n",
    "    top_features = sorted(zip(classifier.coef_[0], feature_names))[-n:]\n",
    "    for coef, feat in top_features:\n",
    "        print(coef, feat)"
   ]
  },
  {
   "cell_type": "code",
   "execution_count": 18,
   "metadata": {},
   "outputs": [
    {
     "name": "stdout",
     "output_type": "stream",
     "text": [
      "-7.198575032207408 price\n",
      "-7.190035073094052 money\n",
      "-7.1772213452582205 onlin\n",
      "-7.168634129556926 softwar\n",
      "-7.166961093096661 www\n",
      "-7.1484680064830215 offer\n",
      "-7.085199046392926 email\n",
      "-7.04755691770725 click\n",
      "-6.779235753921363 com\n",
      "-6.702829887086776 http\n"
     ]
    }
   ],
   "source": [
    "get_most_important_features(vectorizer, clf, 10)"
   ]
  },
  {
   "cell_type": "markdown",
   "metadata": {},
   "source": [
    "## Support_Vector_Machines\n",
    "\n",
    "Support Vector Machine is the most sought after algorithm for classic classification problems. SVMs work on the algorithm of Maximal Margin, i.e, to find the maximum margin or threshold between the support vectors of the two classes (in binary classification). The most effective Support vector machines are the soft maximal margin classifier, that allows one misclassification, i.e, the model starts with low bias(slightly poor performance) to ensure low variance later."
   ]
  },
  {
   "cell_type": "code",
   "execution_count": 25,
   "metadata": {},
   "outputs": [
    {
     "name": "stdout",
     "output_type": "stream",
     "text": [
      "              precision    recall  f1-score   support\n",
      "\n",
      "           0       1.00      0.96      0.98      5443\n",
      "           1       0.96      1.00      0.98      5684\n",
      "\n",
      "    accuracy                           0.98     11127\n",
      "   macro avg       0.98      0.98      0.98     11127\n",
      "weighted avg       0.98      0.98      0.98     11127\n",
      "\n",
      "Accuracy Score of SVC:  0.98\n",
      "F1 Score of SVC :  0.98\n"
     ]
    }
   ],
   "source": [
    "C=0.1\n",
    "svc = svm.SVC(C,'linear')         \n",
    "svc.fit(train_x,train_y)\n",
    "y_pred2 = svc.predict(test_x)\n",
    "\n",
    "\n",
    "print(classification_report(test_y, y_pred2))\n",
    "print('Accuracy Score of SVC: ', round(accuracy_score(test_y, y_pred2), 2))\n",
    "print('F1 Score of SVC : ', round(f1_score(test_y, y_pred2), 2))"
   ]
  },
  {
   "cell_type": "markdown",
   "metadata": {},
   "source": [
    "## Random_Forests_(Bagging)\n",
    "Ensemble methods turn any feeble model into a highly powerful one. Let us see if ensemble model can perform better than Naive Bayes"
   ]
  },
  {
   "cell_type": "code",
   "execution_count": 26,
   "metadata": {},
   "outputs": [
    {
     "name": "stdout",
     "output_type": "stream",
     "text": [
      "              precision    recall  f1-score   support\n",
      "\n",
      "           0       0.99      0.98      0.99      5443\n",
      "           1       0.98      0.99      0.99      5684\n",
      "\n",
      "    accuracy                           0.99     11127\n",
      "   macro avg       0.99      0.99      0.99     11127\n",
      "weighted avg       0.99      0.99      0.99     11127\n",
      "\n",
      "Accuracy Score of Random Forest Classifier :  0.99\n",
      "F1 Score of Random Forest Classifier:  0.99\n"
     ]
    }
   ],
   "source": [
    "rfc = RandomForestClassifier(n_estimators=100,criterion='gini')\n",
    "# n_estimators = No. of trees in the forest\n",
    "# criterion = basis of making the decision tree split, either on gini impurity('gini'), or on infromation gain('entropy')\n",
    "rfc.fit(train_x,train_y)\n",
    "y_pred3 = rfc.predict(test_x)\n",
    "\n",
    "\n",
    "print(classification_report(test_y, y_pred3))\n",
    "print('Accuracy Score of Random Forest Classifier : ', round(accuracy_score(test_y, y_pred3), 2))\n",
    "print('F1 Score of Random Forest Classifier: ', round(f1_score(test_y, y_pred3), 2))"
   ]
  },
  {
   "cell_type": "markdown",
   "metadata": {},
   "source": [
    "\n",
    "\n",
    "As expected, Random Forest Classifier performs the best among the three. Decision tree classifiers are excellent classifiers. Random forest is a popular ensemble model that uses a forest of decision trees. So, obviously, combibining the accuracy of 100 trees (as n_estimators=100 here), will create a powerful model.\n"
   ]
  },
  {
   "cell_type": "markdown",
   "metadata": {},
   "source": [
    "## K-Nearest_Neighbor \n"
   ]
  },
  {
   "cell_type": "code",
   "execution_count": 137,
   "metadata": {
    "scrolled": true
   },
   "outputs": [
    {
     "name": "stdout",
     "output_type": "stream",
     "text": [
      "              precision    recall  f1-score   support\n",
      "\n",
      "           0       1.00      0.34      0.51      5443\n",
      "           1       0.61      1.00      0.76      5684\n",
      "\n",
      "    accuracy                           0.68     11127\n",
      "   macro avg       0.81      0.67      0.63     11127\n",
      "weighted avg       0.80      0.68      0.64     11127\n",
      "\n",
      "Accuracy Score of KNeighbors:  0.68\n",
      "F1 Score of KNeighbors:  0.76\n"
     ]
    }
   ],
   "source": [
    "# Estimate KNN model and report outcomes\n",
    "knn = KNeighborsClassifier(n_neighbors=3)\n",
    "knn = knn.fit(train_x, train_y)\n",
    "y_pred4 = knn.predict(test_x)\n",
    "# Preciision, recall, f-score from the multi-class support function\n",
    "\n",
    "print(classification_report(test_y, y_pred4))\n",
    "print('Accuracy Score of KNeighbors: ', round(accuracy_score(test_y, y_pred4), 2))\n",
    "print('F1 Score of KNeighbors: ', round(f1_score(test_y, y_pred4), 2))"
   ]
  },
  {
   "cell_type": "code",
   "execution_count": 138,
   "metadata": {},
   "outputs": [],
   "source": [
    "max_k = 40\n",
    "f1_scores = list()\n",
    "error_rates = list() # 1-accuracy\n",
    "\n",
    "for k in range(1, max_k):\n",
    "    \n",
    "    knn = KNeighborsClassifier(n_neighbors=k, weights='distance')\n",
    "    knn = knn.fit(train_x, train_y)\n",
    "    \n",
    "    y_pred = knn.predict(test_x)\n",
    "    f1 = f1_score(y_pred, test_y)\n",
    "    f1_scores.append((k, round(f1_score(test_y, y_pred), 4)))\n",
    "    error = 1-round(accuracy_score(test_y, y_pred), 4)\n",
    "    error_rates.append((k, error))\n",
    "    \n",
    "f1_results = pd.DataFrame(f1_scores, columns=['K', 'F1 Score'])\n",
    "error_results = pd.DataFrame(error_rates, columns=['K', 'Error Rate'])"
   ]
  },
  {
   "cell_type": "code",
   "execution_count": 139,
   "metadata": {},
   "outputs": [
    {
     "data": {
      "text/plain": [
       "<Figure size 1800x1200 with 0 Axes>"
      ]
     },
     "metadata": {},
     "output_type": "display_data"
    },
    {
     "data": {
      "image/png": "[encoded data removed]",
      "text/plain": [
       "<Figure size 864x864 with 1 Axes>"
      ]
     },
     "metadata": {},
     "output_type": "display_data"
    }
   ],
   "source": [
    "sns.set_context('talk')\n",
    "sns.set_style('ticks')\n",
    "\n",
    "plt.figure(dpi=300)\n",
    "ax = f1_results.set_index('K').plot(color=\"b\", figsize=(12, 12), linewidth=6)\n",
    "ax.set(xlabel='K', ylabel='F1 Score')\n",
    "ax.set_xticks(range(1, max_k, 2));\n",
    "plt.title('KNN F1 Score')\n",
    "plt.savefig('knn_f1.png')"
   ]
  },
  {
   "cell_type": "code",
   "execution_count": 140,
   "metadata": {},
   "outputs": [
    {
     "data": {
      "text/plain": [
       "<Figure size 600x400 with 0 Axes>"
      ]
     },
     "metadata": {},
     "output_type": "display_data"
    },
    {
     "data": {
      "image/png": "[encoded data removed]",
      "text/plain": [
       "<Figure size 864x864 with 1 Axes>"
      ]
     },
     "metadata": {},
     "output_type": "display_data"
    }
   ],
   "source": [
    "# Plot Accuracy (Error Rate) results\n",
    "sns.set_context('talk')\n",
    "sns.set_style('ticks')\n",
    "\n",
    "plt.figure(dpi=100)\n",
    "ax = error_results.set_index('K').plot(color=\"b\", figsize=(12, 12), linewidth=6)\n",
    "ax.set(xlabel='K', ylabel='Error Rate')\n",
    "ax.set_xticks(range(1, max_k, 2))\n",
    "plt.title('KNN Elbow Curve')\n",
    "plt.savefig('knn_elbow.png')"
   ]
  },
  {
   "cell_type": "markdown",
   "metadata": {},
   "source": [
    "## Gradboosting"
   ]
  },
  {
   "cell_type": "code",
   "execution_count": 41,
   "metadata": {},
   "outputs": [
    {
     "name": "stdout",
     "output_type": "stream",
     "text": [
      "Fitting model with 15 trees\n",
      "Fitting model with 25 trees\n",
      "Fitting model with 50 trees\n",
      "Fitting model with 100 trees\n",
      "Fitting model with 200 trees\n",
      "Fitting model with 400 trees\n"
     ]
    },
    {
     "data": {
      "text/html": [
       "<div>\n",
       "<style scoped>\n",
       "    .dataframe tbody tr th:only-of-type {\n",
       "        vertical-align: middle;\n",
       "    }\n",
       "\n",
       "    .dataframe tbody tr th {\n",
       "        vertical-align: top;\n",
       "    }\n",
       "\n",
       "    .dataframe thead th {\n",
       "        text-align: right;\n",
       "    }\n",
       "</style>\n",
       "<table border=\"1\" class=\"dataframe\">\n",
       "  <thead>\n",
       "    <tr style=\"text-align: right;\">\n",
       "      <th></th>\n",
       "      <th>error</th>\n",
       "    </tr>\n",
       "    <tr>\n",
       "      <th>n_trees</th>\n",
       "      <th></th>\n",
       "    </tr>\n",
       "  </thead>\n",
       "  <tbody>\n",
       "    <tr>\n",
       "      <th>15.0</th>\n",
       "      <td>0.134897</td>\n",
       "    </tr>\n",
       "    <tr>\n",
       "      <th>25.0</th>\n",
       "      <td>0.101824</td>\n",
       "    </tr>\n",
       "    <tr>\n",
       "      <th>50.0</th>\n",
       "      <td>0.074144</td>\n",
       "    </tr>\n",
       "    <tr>\n",
       "      <th>100.0</th>\n",
       "      <td>0.054462</td>\n",
       "    </tr>\n",
       "    <tr>\n",
       "      <th>200.0</th>\n",
       "      <td>0.038914</td>\n",
       "    </tr>\n",
       "    <tr>\n",
       "      <th>400.0</th>\n",
       "      <td>0.029747</td>\n",
       "    </tr>\n",
       "  </tbody>\n",
       "</table>\n",
       "</div>"
      ],
      "text/plain": [
       "            error\n",
       "n_trees          \n",
       "15.0     0.134897\n",
       "25.0     0.101824\n",
       "50.0     0.074144\n",
       "100.0    0.054462\n",
       "200.0    0.038914\n",
       "400.0    0.029747"
      ]
     },
     "execution_count": 41,
     "metadata": {},
     "output_type": "execute_result"
    }
   ],
   "source": [
    "error_list = list()\n",
    "\n",
    "# Iterate through various possibilities for number of trees\n",
    "tree_list = [15, 25, 50, 100, 200]\n",
    "for n_trees in tree_list:\n",
    "    \n",
    "    # Initialize the gradient boost classifier\n",
    "    GBC = GradientBoostingClassifier(n_estimators=n_trees, random_state=42)\n",
    "\n",
    "    # Fit the model\n",
    "    print(f'Fitting model with {n_trees} trees')\n",
    "    GBC.fit(train_x, train_y)\n",
    "    y_pred5 = GBC.predict(test_x)\n",
    "\n",
    "    # Get the error\n",
    "    error = 1.0 - accuracy_score(test_y, y_pred5)\n",
    "    \n",
    "    # Store it\n",
    "    error_list.append(pd.Series({'n_trees': n_trees, 'error': error}))\n",
    "\n",
    "error_df = pd.concat(error_list, axis=1).T.set_index('n_trees')\n",
    "\n",
    "error_df"
   ]
  },
  {
   "cell_type": "code",
   "execution_count": 43,
   "metadata": {},
   "outputs": [
    {
     "name": "stdout",
     "output_type": "stream",
     "text": [
      "              precision    recall  f1-score   support\n",
      "\n",
      "           0       0.99      0.94      0.97      5443\n",
      "           1       0.95      1.00      0.97      5684\n",
      "\n",
      "    accuracy                           0.97     11127\n",
      "   macro avg       0.97      0.97      0.97     11127\n",
      "weighted avg       0.97      0.97      0.97     11127\n",
      "\n",
      "Accuracy Score of KNeighbors:  0.97\n",
      "F1 Score of KNeighbors:  0.97\n"
     ]
    }
   ],
   "source": [
    "print(classification_report(test_y, y_pred5))\n",
    "print('Accuracy Score of KNeighbors: ', round(accuracy_score(test_y, y_pred5), 2))\n",
    "print('F1 Score of KNeighbors: ', round(f1_score(test_y, y_pred5), 2))"
   ]
  },
  {
   "cell_type": "markdown",
   "metadata": {},
   "source": [
    "## GridSearchCV"
   ]
  },
  {
   "cell_type": "code",
   "execution_count": 44,
   "metadata": {},
   "outputs": [],
   "source": [
    "# The parameters to be fit\n",
    "param_grid = {'n_estimators': tree_list,\n",
    "              'learning_rate': [0.1, 0.01, 0.001, 0.0001],\n",
    "              'subsample': [1.0, 0.5],\n",
    "              'max_features': [1, 2, 3, 4]}\n",
    "\n",
    "# The grid search object\n",
    "GV_GBC = GridSearchCV(GradientBoostingClassifier(random_state=42), \n",
    "                      param_grid=param_grid, \n",
    "                      scoring='accuracy',\n",
    "                      n_jobs=-1)\n",
    "\n",
    "# Do the grid search\n",
    "GV_GBC = GV_GBC.fit(train_x, train_y)\n"
   ]
  },
  {
   "cell_type": "code",
   "execution_count": 45,
   "metadata": {},
   "outputs": [
    {
     "data": {
      "text/plain": [
       "GradientBoostingClassifier(ccp_alpha=0.0, criterion='friedman_mse', init=None,\n",
       "                           learning_rate=0.1, loss='deviance', max_depth=3,\n",
       "                           max_features=4, max_leaf_nodes=None,\n",
       "                           min_impurity_decrease=0.0, min_impurity_split=None,\n",
       "                           min_samples_leaf=1, min_samples_split=2,\n",
       "                           min_weight_fraction_leaf=0.0, n_estimators=400,\n",
       "                           n_iter_no_change=None, presort='deprecated',\n",
       "                           random_state=42, subsample=0.5, tol=0.0001,\n",
       "                           validation_fraction=0.1, verbose=0,\n",
       "                           warm_start=False)"
      ]
     },
     "execution_count": 45,
     "metadata": {},
     "output_type": "execute_result"
    }
   ],
   "source": [
    "GV_GBC.best_estimator_"
   ]
  },
  {
   "cell_type": "code",
   "execution_count": 46,
   "metadata": {},
   "outputs": [
    {
     "name": "stdout",
     "output_type": "stream",
     "text": [
      "              precision    recall  f1-score   support\n",
      "\n",
      "           0       0.87      0.54      0.67      5443\n",
      "           1       0.68      0.92      0.78      5684\n",
      "\n",
      "    accuracy                           0.73     11127\n",
      "   macro avg       0.77      0.73      0.72     11127\n",
      "weighted avg       0.77      0.73      0.72     11127\n",
      "\n",
      "Accuracy Score of KNeighbors:  0.73\n",
      "F1 Score of KNeighbors:  0.78\n"
     ]
    }
   ],
   "source": [
    "y_pred6 = GV_GBC.predict(test_x)\n",
    "\n",
    "print(classification_report(test_y, y_pred6))\n",
    "print('Accuracy Score of KNeighbors: ', round(accuracy_score(test_y, y_pred6), 2))\n",
    "print('F1 Score of KNeighbors: ', round(f1_score(test_y, y_pred6), 2))"
   ]
  },
  {
   "cell_type": "markdown",
   "metadata": {},
   "source": [
    "## Logistic_Regression"
   ]
  },
  {
   "cell_type": "code",
   "execution_count": 47,
   "metadata": {},
   "outputs": [
    {
     "name": "stdout",
     "output_type": "stream",
     "text": [
      "              precision    recall  f1-score   support\n",
      "\n",
      "           0       0.97      1.00      0.98      5307\n",
      "           1       1.00      0.97      0.98      5820\n",
      "\n",
      "    accuracy                           0.98     11127\n",
      "   macro avg       0.98      0.98      0.98     11127\n",
      "weighted avg       0.98      0.98      0.98     11127\n",
      "\n",
      "Accuracy Score of KNeighbors:  0.98\n",
      "F1 Score of KNeighbors:  0.98\n"
     ]
    }
   ],
   "source": [
    "# L2 regularized logistic regression\n",
    "LR_L2 = LogisticRegression(penalty='l2', max_iter=500, solver='saga').fit(train_x, train_y)\n",
    "y_pred7 = LR_L2.predict(test_x)\n",
    "print(classification_report(y_pred7, test_y))\n",
    "print('Accuracy Score of KNeighbors: ', round(accuracy_score(test_y, y_pred7), 2))\n",
    "print('F1 Score of KNeighbors: ', round(f1_score(test_y, y_pred7), 2))"
   ]
  },
  {
   "cell_type": "markdown",
   "metadata": {},
   "source": [
    "## Desission_tree "
   ]
  },
  {
   "cell_type": "code",
   "execution_count": 48,
   "metadata": {},
   "outputs": [
    {
     "name": "stdout",
     "output_type": "stream",
     "text": [
      "              precision    recall  f1-score   support\n",
      "\n",
      "           0       0.96      0.96      0.96      5435\n",
      "           1       0.96      0.96      0.96      5692\n",
      "\n",
      "    accuracy                           0.96     11127\n",
      "   macro avg       0.96      0.96      0.96     11127\n",
      "weighted avg       0.96      0.96      0.96     11127\n",
      "\n",
      "Accuracy Score of KNeighbors:  0.96\n",
      "F1 Score of KNeighbors:  0.96\n"
     ]
    }
   ],
   "source": [
    "dt = DecisionTreeClassifier(random_state=42)\n",
    "dt = dt.fit(train_x, train_y)\n",
    "\n",
    "y_pred8 = dt.predict(test_x)\n",
    "print(classification_report(y_pred8, test_y))\n",
    "print('Accuracy Score of KNeighbors: ', round(accuracy_score(test_y, y_pred8), 2))\n",
    "print('F1 Score of KNeighbors: ', round(f1_score(test_y, y_pred8), 2))\n",
    "\n"
   ]
  },
  {
   "cell_type": "markdown",
   "metadata": {},
   "source": [
    "# Conclusion"
   ]
  },
  {
   "cell_type": "code",
   "execution_count": 51,
   "metadata": {},
   "outputs": [],
   "source": [
    "from prettytable import PrettyTable"
   ]
  },
  {
   "cell_type": "code",
   "execution_count": 58,
   "metadata": {},
   "outputs": [
    {
     "name": "stdout",
     "output_type": "stream",
     "text": [
      "+--------------------------+-----------------------+--------------------+------------------------+\n",
      "|   Classification Model   |       Precision       |      Accuracy      | Root Mean Square Error |\n",
      "+--------------------------+-----------------------+--------------------+------------------------+\n",
      "|       Naive Bayes        |   0.9417359460588483  | 0.9854408196279321 |  0.12066142868401626   |\n",
      "| Support Vector Machines  |   0.9075687539328642  | 0.9769030286690034 |   0.1519768776195796   |\n",
      "| Random Forests (Bagging) |   0.9518062763696646  | 0.9879572211737215 |  0.10973959552631138   |\n",
      "|    K-Nearest Neighbor    |  -0.29511640890177415 | 0.6763727869147119 |   0.5688824246584596   |\n",
      "|       Gradboosting       |   0.8809543095399924  | 0.9702525388694168 |  0.17247452313481915   |\n",
      "|       GridSearchCV       | -0.061700538483209666 | 0.7346993798867619 |   0.5150734123532664   |\n",
      "|   Logistic Regression    |   0.9352621622876092  | 0.9838231329199245 |  0.12718831345715492   |\n",
      "|      Desission_tree      |   0.8395940243348539  | 0.9599173182349241 |  0.20020659770615937   |\n",
      "+--------------------------+-----------------------+--------------------+------------------------+\n"
     ]
    }
   ],
   "source": [
    "warnings.filterwarnings('ignore')\n",
    "ptbl = PrettyTable()\n",
    "ptbl.field_names = [\"Classification Model\", \"Precision\", \"Accuracy\", \"Root Mean Square Error\"]\n",
    "\n",
    "ptbl.add_row([\"Naive Bayes\", r2_score(test_y,y_pred1), accuracy_score(test_y, y_pred1) ,np.sqrt(mean_squared_error(test_y, y_pred1))])\n",
    "\n",
    "ptbl.add_row([\"Support Vector Machines\", r2_score(test_y,y_pred2), accuracy_score(test_y, y_pred2) ,np.sqrt(mean_squared_error(test_y, y_pred2))])\n",
    "\n",
    "ptbl.add_row([\"Random Forests (Bagging)\", r2_score(test_y,y_pred3), accuracy_score(test_y, y_pred3) ,np.sqrt(mean_squared_error(test_y, y_pred3))])\n",
    "\n",
    "ptbl.add_row([\"K-Nearest Neighbor\", r2_score(test_y,y_pred4), accuracy_score(test_y, y_pred4) ,np.sqrt(mean_squared_error(test_y, y_pred4))])\n",
    "            \n",
    "ptbl.add_row([\"Gradboosting\", r2_score(test_y,y_pred5), accuracy_score(test_y, y_pred5) ,np.sqrt(mean_squared_error(test_y, y_pred5))])            \n",
    "\n",
    "ptbl.add_row([\"GridSearchCV\", r2_score(test_y,y_pred6), accuracy_score(test_y, y_pred6) ,np.sqrt(mean_squared_error(test_y, y_pred6))])\n",
    "\n",
    "ptbl.add_row([\"Logistic Regression\", r2_score(test_y,y_pred7), accuracy_score(test_y, y_pred7) ,np.sqrt(mean_squared_error(test_y, y_pred7))])\n",
    "\n",
    "ptbl.add_row([\"Desission_tree\", r2_score(test_y,y_pred8), accuracy_score(test_y, y_pred8) ,np.sqrt(mean_squared_error(test_y, y_pred8))])\n",
    "\n",
    "print(ptbl)"
   ]
  },
  {
   "cell_type": "markdown",
   "metadata": {},
   "source": [
    "As we can see in the table above and in the other reports presented in the notebook, all the models seem to preform well this classification task. Nevertheless  Random Forests (Bagging) seams to be the one with best results. \n",
    "\n",
    "All the performance cold be improved with a better data cleaning process, for example creating clusters to divide the to classes and removing repeated words.\n",
    "\n",
    "Language Processing was and will always be huge portion of our modern world technology, nowadays we use AI and Machine Learning for Natural Language Processing, Machine Translation etc. In this project I had the chance to play with different tips of ML algorithms for classifying English Emails as Spam or not spam. In the future it would be interesting to optimize this project to identify spam or not spam different Languages and not only in English. "
   ]
  }
 ],
 "metadata": {
  "kernelspec": {
   "display_name": "Python 3",
   "language": "python",
   "name": "python3"
  },
  "language_info": {
   "codemirror_mode": {
    "name": "ipython",
    "version": 3
   },
   "file_extension": ".py",
   "mimetype": "text/x-python",
   "name": "python",
   "nbconvert_exporter": "python",
   "pygments_lexer": "ipython3",
   "version": "3.8.0"
  }
 },
 "nbformat": 4,
 "nbformat_minor": 2
}
